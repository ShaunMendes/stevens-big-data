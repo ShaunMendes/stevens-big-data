{
 "cells": [
  {
   "cell_type": "code",
   "execution_count": 1,
   "id": "8093e2fd-a34f-42fd-98ae-1cba5388e208",
   "metadata": {},
   "outputs": [],
   "source": [
    "from glob import glob\n",
    "\n",
    "from pyspark.sql import SparkSession\n",
    "import pyspark.sql.functions as F\n",
    "import pyspark.sql.types as T\n",
    "\n",
    "spark = (\n",
    "    SparkSession\n",
    "    .builder\n",
    "    .master(\"local[*]\")\n",
    "    .config(\"spark.driver.memory\", \"22g\")\n",
    "    .config(\"spark.executor.memory\", \"22g\")\n",
    "    .config(\"spark.driver.bindAddress\",\"localhost\")\n",
    "    .config(\"spark.ui.port\",\"4050\")\n",
    "    .getOrCreate()\n",
    ")"
   ]
  },
  {
   "cell_type": "code",
   "execution_count": 2,
   "id": "4b474f5b",
   "metadata": {},
   "outputs": [],
   "source": [
    "BASE_PATH = \"C:/BigData/\""
   ]
  },
  {
   "cell_type": "code",
   "execution_count": 3,
   "id": "3ea03a7c-0cbb-4ab9-bb00-06d7ed36b0d5",
   "metadata": {},
   "outputs": [
    {
     "name": "stdout",
     "output_type": "stream",
     "text": [
      "+------+-------+----+\n",
      "|app_id|product|flag|\n",
      "+------+-------+----+\n",
      "|     0|      3|   0|\n",
      "|     1|      1|   0|\n",
      "|     2|      1|   0|\n",
      "+------+-------+----+\n",
      "only showing top 3 rows\n",
      "\n"
     ]
    }
   ],
   "source": [
    "train = spark.read.csv(BASE_PATH+\"alphabattle2.0/alfabattle2_train_target.csv\",\n",
    "                        header=True,\n",
    "                        inferSchema=True)\n",
    "train.show(3, truncate=50)"
   ]
  },
  {
   "cell_type": "code",
   "execution_count": 4,
   "id": "b5e89889-8fd7-46f7-82ce-5e7c2c38d55b",
   "metadata": {},
   "outputs": [
    {
     "data": {
      "text/plain": [
       "963811"
      ]
     },
     "execution_count": 4,
     "metadata": {},
     "output_type": "execute_result"
    }
   ],
   "source": [
    "train.count()"
   ]
  },
  {
   "cell_type": "code",
   "execution_count": 5,
   "id": "b19cd6c8",
   "metadata": {},
   "outputs": [
    {
     "name": "stdout",
     "output_type": "stream",
     "text": [
      "root\n",
      " |-- app_id: integer (nullable = true)\n",
      " |-- product: integer (nullable = true)\n",
      " |-- flag: integer (nullable = true)\n",
      "\n"
     ]
    }
   ],
   "source": [
    "train.printSchema()"
   ]
  },
  {
   "cell_type": "code",
   "execution_count": 6,
   "id": "37136a98-8681-48b5-8591-ebdc6cf614af",
   "metadata": {},
   "outputs": [
    {
     "name": "stdout",
     "output_type": "stream",
     "text": [
      "+-----------+\n",
      "|min(app_id)|\n",
      "+-----------+\n",
      "|          0|\n",
      "+-----------+\n",
      "\n"
     ]
    }
   ],
   "source": [
    "train.select(F.min(\"app_id\")).show()"
   ]
  },
  {
   "cell_type": "code",
   "execution_count": 7,
   "id": "c772014a-18e9-4019-af82-9efca65366d7",
   "metadata": {},
   "outputs": [
    {
     "name": "stdout",
     "output_type": "stream",
     "text": [
      "+-----------+\n",
      "|max(app_id)|\n",
      "+-----------+\n",
      "|    1003050|\n",
      "+-----------+\n",
      "\n"
     ]
    }
   ],
   "source": [
    "train.select(F.max(\"app_id\")).show()"
   ]
  },
  {
   "cell_type": "code",
   "execution_count": 8,
   "id": "21c7b614-711f-419c-a3ad-eca27f12def6",
   "metadata": {},
   "outputs": [
    {
     "name": "stdout",
     "output_type": "stream",
     "text": [
      "+----+\n",
      "|flag|\n",
      "+----+\n",
      "|   1|\n",
      "|   0|\n",
      "+----+\n",
      "\n"
     ]
    }
   ],
   "source": [
    "train.select(\"flag\").distinct().show()"
   ]
  },
  {
   "cell_type": "code",
   "execution_count": 9,
   "id": "e6028df3",
   "metadata": {},
   "outputs": [],
   "source": [
    "train_trunc = train.join(train.select(\"app_id\").distinct().limit(5_000), on=[\"app_id\"])"
   ]
  },
  {
   "cell_type": "code",
   "execution_count": 10,
   "id": "65ac956b",
   "metadata": {},
   "outputs": [],
   "source": [
    "train_trunc.createOrReplaceTempView(\"train\")"
   ]
  },
  {
   "cell_type": "code",
   "execution_count": 11,
   "id": "b85e2cba-02af-4c4a-938b-fb5548728107",
   "metadata": {},
   "outputs": [
    {
     "data": {
      "text/plain": [
       "['C:/BigData/alphabattle2.0/alfabattle2_train_transactions_contest/train_transactions_contest\\\\part_000_0_to_23646.parquet',\n",
       " 'C:/BigData/alphabattle2.0/alfabattle2_train_transactions_contest/train_transactions_contest\\\\part_001_23647_to_47415.parquet',\n",
       " 'C:/BigData/alphabattle2.0/alfabattle2_train_transactions_contest/train_transactions_contest\\\\part_002_47416_to_70092.parquet',\n",
       " 'C:/BigData/alphabattle2.0/alfabattle2_train_transactions_contest/train_transactions_contest\\\\part_003_70093_to_92989.parquet',\n",
       " 'C:/BigData/alphabattle2.0/alfabattle2_train_transactions_contest/train_transactions_contest\\\\part_004_92990_to_115175.parquet',\n",
       " 'C:/BigData/alphabattle2.0/alfabattle2_train_transactions_contest/train_transactions_contest\\\\part_005_115176_to_138067.parquet',\n",
       " 'C:/BigData/alphabattle2.0/alfabattle2_train_transactions_contest/train_transactions_contest\\\\part_006_138068_to_159724.parquet',\n",
       " 'C:/BigData/alphabattle2.0/alfabattle2_train_transactions_contest/train_transactions_contest\\\\part_007_159725_to_180735.parquet',\n",
       " 'C:/BigData/alphabattle2.0/alfabattle2_train_transactions_contest/train_transactions_contest\\\\part_008_180736_to_202834.parquet',\n",
       " 'C:/BigData/alphabattle2.0/alfabattle2_train_transactions_contest/train_transactions_contest\\\\part_009_202835_to_224283.parquet',\n",
       " 'C:/BigData/alphabattle2.0/alfabattle2_train_transactions_contest/train_transactions_contest\\\\part_010_224284_to_245233.parquet',\n",
       " 'C:/BigData/alphabattle2.0/alfabattle2_train_transactions_contest/train_transactions_contest\\\\part_011_245234_to_265281.parquet',\n",
       " 'C:/BigData/alphabattle2.0/alfabattle2_train_transactions_contest/train_transactions_contest\\\\part_012_265282_to_285632.parquet',\n",
       " 'C:/BigData/alphabattle2.0/alfabattle2_train_transactions_contest/train_transactions_contest\\\\part_013_285633_to_306877.parquet',\n",
       " 'C:/BigData/alphabattle2.0/alfabattle2_train_transactions_contest/train_transactions_contest\\\\part_014_306878_to_329680.parquet',\n",
       " 'C:/BigData/alphabattle2.0/alfabattle2_train_transactions_contest/train_transactions_contest\\\\part_015_329681_to_350977.parquet',\n",
       " 'C:/BigData/alphabattle2.0/alfabattle2_train_transactions_contest/train_transactions_contest\\\\part_016_350978_to_372076.parquet',\n",
       " 'C:/BigData/alphabattle2.0/alfabattle2_train_transactions_contest/train_transactions_contest\\\\part_017_372077_to_392692.parquet',\n",
       " 'C:/BigData/alphabattle2.0/alfabattle2_train_transactions_contest/train_transactions_contest\\\\part_018_392693_to_413981.parquet',\n",
       " 'C:/BigData/alphabattle2.0/alfabattle2_train_transactions_contest/train_transactions_contest\\\\part_019_413982_to_434478.parquet',\n",
       " 'C:/BigData/alphabattle2.0/alfabattle2_train_transactions_contest/train_transactions_contest\\\\part_020_434479_to_455958.parquet',\n",
       " 'C:/BigData/alphabattle2.0/alfabattle2_train_transactions_contest/train_transactions_contest\\\\part_021_455959_to_477221.parquet',\n",
       " 'C:/BigData/alphabattle2.0/alfabattle2_train_transactions_contest/train_transactions_contest\\\\part_022_477222_to_496751.parquet',\n",
       " 'C:/BigData/alphabattle2.0/alfabattle2_train_transactions_contest/train_transactions_contest\\\\part_023_496752_to_517332.parquet',\n",
       " 'C:/BigData/alphabattle2.0/alfabattle2_train_transactions_contest/train_transactions_contest\\\\part_024_517333_to_537036.parquet',\n",
       " 'C:/BigData/alphabattle2.0/alfabattle2_train_transactions_contest/train_transactions_contest\\\\part_025_537037_to_557423.parquet',\n",
       " 'C:/BigData/alphabattle2.0/alfabattle2_train_transactions_contest/train_transactions_contest\\\\part_026_557424_to_576136.parquet',\n",
       " 'C:/BigData/alphabattle2.0/alfabattle2_train_transactions_contest/train_transactions_contest\\\\part_027_576137_to_595745.parquet',\n",
       " 'C:/BigData/alphabattle2.0/alfabattle2_train_transactions_contest/train_transactions_contest\\\\part_028_595746_to_615602.parquet',\n",
       " 'C:/BigData/alphabattle2.0/alfabattle2_train_transactions_contest/train_transactions_contest\\\\part_029_615603_to_635004.parquet',\n",
       " 'C:/BigData/alphabattle2.0/alfabattle2_train_transactions_contest/train_transactions_contest\\\\part_030_635005_to_654605.parquet',\n",
       " 'C:/BigData/alphabattle2.0/alfabattle2_train_transactions_contest/train_transactions_contest\\\\part_031_654606_to_673656.parquet',\n",
       " 'C:/BigData/alphabattle2.0/alfabattle2_train_transactions_contest/train_transactions_contest\\\\part_032_673657_to_696025.parquet',\n",
       " 'C:/BigData/alphabattle2.0/alfabattle2_train_transactions_contest/train_transactions_contest\\\\part_033_696026_to_714545.parquet',\n",
       " 'C:/BigData/alphabattle2.0/alfabattle2_train_transactions_contest/train_transactions_contest\\\\part_034_714546_to_733168.parquet',\n",
       " 'C:/BigData/alphabattle2.0/alfabattle2_train_transactions_contest/train_transactions_contest\\\\part_035_733169_to_752514.parquet',\n",
       " 'C:/BigData/alphabattle2.0/alfabattle2_train_transactions_contest/train_transactions_contest\\\\part_036_752515_to_770940.parquet',\n",
       " 'C:/BigData/alphabattle2.0/alfabattle2_train_transactions_contest/train_transactions_contest\\\\part_037_770941_to_788380.parquet',\n",
       " 'C:/BigData/alphabattle2.0/alfabattle2_train_transactions_contest/train_transactions_contest\\\\part_038_788381_to_805771.parquet',\n",
       " 'C:/BigData/alphabattle2.0/alfabattle2_train_transactions_contest/train_transactions_contest\\\\part_039_805772_to_823299.parquet',\n",
       " 'C:/BigData/alphabattle2.0/alfabattle2_train_transactions_contest/train_transactions_contest\\\\part_040_823300_to_841218.parquet',\n",
       " 'C:/BigData/alphabattle2.0/alfabattle2_train_transactions_contest/train_transactions_contest\\\\part_041_841219_to_859270.parquet',\n",
       " 'C:/BigData/alphabattle2.0/alfabattle2_train_transactions_contest/train_transactions_contest\\\\part_042_859271_to_878521.parquet',\n",
       " 'C:/BigData/alphabattle2.0/alfabattle2_train_transactions_contest/train_transactions_contest\\\\part_043_878522_to_896669.parquet',\n",
       " 'C:/BigData/alphabattle2.0/alfabattle2_train_transactions_contest/train_transactions_contest\\\\part_044_896670_to_916056.parquet',\n",
       " 'C:/BigData/alphabattle2.0/alfabattle2_train_transactions_contest/train_transactions_contest\\\\part_045_916057_to_935131.parquet',\n",
       " 'C:/BigData/alphabattle2.0/alfabattle2_train_transactions_contest/train_transactions_contest\\\\part_046_935132_to_951695.parquet',\n",
       " 'C:/BigData/alphabattle2.0/alfabattle2_train_transactions_contest/train_transactions_contest\\\\part_047_951696_to_970383.parquet',\n",
       " 'C:/BigData/alphabattle2.0/alfabattle2_train_transactions_contest/train_transactions_contest\\\\part_048_970384_to_987313.parquet',\n",
       " 'C:/BigData/alphabattle2.0/alfabattle2_train_transactions_contest/train_transactions_contest\\\\part_049_987314_to_1003050.parquet']"
      ]
     },
     "execution_count": 11,
     "metadata": {},
     "output_type": "execute_result"
    }
   ],
   "source": [
    "transaction_data_list = glob(BASE_PATH+\"alphabattle2.0/alfabattle2_train_transactions_contest/train_transactions_contest/*.parquet\")\n",
    "transaction_data_list"
   ]
  },
  {
   "cell_type": "code",
   "execution_count": 12,
   "id": "40cd8492-716d-43f1-836a-bea90a2b1741",
   "metadata": {},
   "outputs": [
    {
     "name": "stdout",
     "output_type": "stream",
     "text": [
      "+------+------------------+--------+--------------+---------+--------------+--------------------+--------------+--------------+-----------+---+-------+----+------------+-----------+----+-----------+----------+---------+------------------+-----------------+\n",
      "|app_id|              amnt|currency|operation_kind|card_type|operation_type|operation_type_group|ecommerce_flag|payment_system|income_flag|mcc|country|city|mcc_category|day_of_week|hour|days_before|weekofyear|hour_diff|transaction_number|__index_level_0__|\n",
      "+------+------------------+--------+--------------+---------+--------------+--------------------+--------------+--------------+-----------+---+-------+----+------------+-----------+----+-----------+----------+---------+------------------+-----------------+\n",
      "|823300|0.2975890792412704|       1|             4|        2|             4|                   2|             1|             3|          2|  2|      1|  93|           2|          2|  10|        240|        48|       -1|                 1|          4280508|\n",
      "|823300| 0.313568485330333|       1|             1|        2|             1|                   1|             1|             1|          1|  1|      1|  93|           1|          2|  10|        240|        48|        0|                 2|          4280509|\n",
      "|823300| 0.305395240024642|       1|             1|        2|             1|                   1|             1|             1|          1|  4|      1|   2|           3|          6|  15|        238|        46|       53|                 3|          4280510|\n",
      "+------+------------------+--------+--------------+---------+--------------+--------------------+--------------+--------------+-----------+---+-------+----+------------+-----------+----+-----------+----------+---------+------------------+-----------------+\n",
      "only showing top 3 rows\n",
      "\n"
     ]
    }
   ],
   "source": [
    "transaction_data = spark.read.parquet(*transaction_data_list)\n",
    "transaction_data.show(3, truncate=50)"
   ]
  },
  {
   "cell_type": "code",
   "execution_count": 13,
   "id": "1ae462a8-3884-4fad-b0be-d6a4ddded7ed",
   "metadata": {},
   "outputs": [
    {
     "name": "stdout",
     "output_type": "stream",
     "text": [
      "root\n",
      " |-- app_id: integer (nullable = true)\n",
      " |-- amnt: double (nullable = true)\n",
      " |-- currency: integer (nullable = true)\n",
      " |-- operation_kind: integer (nullable = true)\n",
      " |-- card_type: integer (nullable = true)\n",
      " |-- operation_type: integer (nullable = true)\n",
      " |-- operation_type_group: integer (nullable = true)\n",
      " |-- ecommerce_flag: integer (nullable = true)\n",
      " |-- payment_system: integer (nullable = true)\n",
      " |-- income_flag: integer (nullable = true)\n",
      " |-- mcc: integer (nullable = true)\n",
      " |-- country: integer (nullable = true)\n",
      " |-- city: integer (nullable = true)\n",
      " |-- mcc_category: integer (nullable = true)\n",
      " |-- day_of_week: integer (nullable = true)\n",
      " |-- hour: integer (nullable = true)\n",
      " |-- days_before: integer (nullable = true)\n",
      " |-- weekofyear: integer (nullable = true)\n",
      " |-- hour_diff: long (nullable = true)\n",
      " |-- transaction_number: integer (nullable = true)\n",
      " |-- __index_level_0__: long (nullable = true)\n",
      "\n"
     ]
    }
   ],
   "source": [
    "transaction_data.printSchema()"
   ]
  },
  {
   "cell_type": "code",
   "execution_count": 14,
   "id": "19ff3a00-7272-4422-912f-6d8aefff217a",
   "metadata": {},
   "outputs": [
    {
     "name": "stdout",
     "output_type": "stream",
     "text": [
      "+------+-------------------+--------+--------------+---------+--------------+--------------------+--------------+--------------+-----------+---+-------+----+------------+-----------+----+-----------+----------+---------+------------------+-----------------+\n",
      "|app_id|               amnt|currency|operation_kind|card_type|operation_type|operation_type_group|ecommerce_flag|payment_system|income_flag|mcc|country|city|mcc_category|day_of_week|hour|days_before|weekofyear|hour_diff|transaction_number|__index_level_0__|\n",
      "+------+-------------------+--------+--------------+---------+--------------+--------------------+--------------+--------------+-----------+---+-------+----+------------+-----------+----+-----------+----------+---------+------------------+-----------------+\n",
      "|823300| 0.2975890792412704|       1|             4|        2|             4|                   2|             1|             3|          2|  2|      1|  93|           2|          2|  10|        240|        48|       -1|                 1|          4280508|\n",
      "|823300|  0.313568485330333|       1|             1|        2|             1|                   1|             1|             1|          1|  1|      1|  93|           1|          2|  10|        240|        48|        0|                 2|          4280509|\n",
      "|823300|  0.305395240024642|       1|             1|        2|             1|                   1|             1|             1|          1|  4|      1|   2|           3|          6|  15|        238|        46|       53|                 3|          4280510|\n",
      "|823300| 0.3029119192256977|       1|             1|        2|             1|                   1|             1|             1|          1|  1|      1|  93|           1|          4|  15|        236|        46|       48|                 4|          4280511|\n",
      "|823300|0.17345042262094507|       1|             1|        2|             1|                   1|             1|             1|          1| 10|      1|  93|           7|          3|  15|        235|        46|       24|                 5|          4280512|\n",
      "+------+-------------------+--------+--------------+---------+--------------+--------------------+--------------+--------------+-----------+---+-------+----+------------+-----------+----+-----------+----------+---------+------------------+-----------------+\n",
      "only showing top 5 rows\n",
      "\n"
     ]
    }
   ],
   "source": [
    "transaction_data.show(5)"
   ]
  },
  {
   "cell_type": "code",
   "execution_count": 15,
   "id": "e396dc52-6597-44be-8b35-fbe3130177e1",
   "metadata": {},
   "outputs": [
    {
     "data": {
      "text/plain": [
       "['app_id',\n",
       " 'amnt',\n",
       " 'currency',\n",
       " 'operation_kind',\n",
       " 'card_type',\n",
       " 'operation_type',\n",
       " 'operation_type_group',\n",
       " 'ecommerce_flag',\n",
       " 'payment_system',\n",
       " 'income_flag',\n",
       " 'mcc',\n",
       " 'country',\n",
       " 'city',\n",
       " 'mcc_category',\n",
       " 'day_of_week',\n",
       " 'hour',\n",
       " 'days_before',\n",
       " 'weekofyear',\n",
       " 'hour_diff',\n",
       " 'transaction_number',\n",
       " '__index_level_0__',\n",
       " 'product',\n",
       " 'flag']"
      ]
     },
     "execution_count": 15,
     "metadata": {},
     "output_type": "execute_result"
    }
   ],
   "source": [
    "sample_transaction_data = transaction_data.join(train_trunc, on=[\"app_id\"])\n",
    "sample_transaction_data.columns"
   ]
  },
  {
   "cell_type": "code",
   "execution_count": 16,
   "id": "c6cc6dcb-a1c9-4989-9355-74b32be76ecc",
   "metadata": {},
   "outputs": [
    {
     "data": {
      "text/plain": [
       "1315417"
      ]
     },
     "execution_count": 16,
     "metadata": {},
     "output_type": "execute_result"
    }
   ],
   "source": [
    "sample_transaction_data.count()"
   ]
  },
  {
   "cell_type": "code",
   "execution_count": 17,
   "id": "685ccc27",
   "metadata": {},
   "outputs": [],
   "source": [
    "sample_transaction_data = sample_transaction_data.drop(\"__index_level_0__\")"
   ]
  },
  {
   "cell_type": "code",
   "execution_count": 19,
   "id": "88e46885-3c66-4964-8f18-c069c21f39f7",
   "metadata": {},
   "outputs": [],
   "source": [
    "(\n",
    "    sample_transaction_data\n",
    "    .write\n",
    "    .format(\"parquet\")\n",
    "    .mode('overwrite')\n",
    "    .save(BASE_PATH+\"alphabattle2.0/train_sample\")\n",
    ")"
   ]
  },
  {
   "cell_type": "code",
   "execution_count": null,
   "id": "e2203c1a",
   "metadata": {},
   "outputs": [],
   "source": []
  }
 ],
 "metadata": {
  "kernelspec": {
   "display_name": "stevens",
   "language": "python",
   "name": "python3"
  },
  "language_info": {
   "codemirror_mode": {
    "name": "ipython",
    "version": 3
   },
   "file_extension": ".py",
   "mimetype": "text/x-python",
   "name": "python",
   "nbconvert_exporter": "python",
   "pygments_lexer": "ipython3",
   "version": "3.11.5"
  }
 },
 "nbformat": 4,
 "nbformat_minor": 5
}
