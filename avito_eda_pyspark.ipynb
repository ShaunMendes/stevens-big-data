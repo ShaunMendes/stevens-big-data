{
 "cells": [
  {
   "cell_type": "code",
   "execution_count": 1,
   "metadata": {},
   "outputs": [],
   "source": [
    "from pyspark.sql import SparkSession\n",
    "import pyspark.sql.functions as F\n",
    "\n",
    "spark = (\n",
    "    SparkSession\n",
    "    .builder\n",
    "    .master(\"local[*]\")\n",
    "    .config(\"spark.driver.memory\", \"22g\")\n",
    "    .config(\"spark.executor.memory\", \"22g\")\n",
    "    .config(\"spark.driver.bindAddress\",\"localhost\")\n",
    "    .config(\"spark.ui.port\",\"4050\")\n",
    "    .getOrCreate()\n",
    ")"
   ]
  },
  {
   "cell_type": "code",
   "execution_count": 2,
   "metadata": {},
   "outputs": [],
   "source": [
    "BASE_PATH = \"C:/BigData/avito-context-ad-clicks/\""
   ]
  },
  {
   "cell_type": "code",
   "execution_count": 3,
   "metadata": {},
   "outputs": [],
   "source": [
    "ads_info = spark.read.csv(BASE_PATH+\"AdsInfo.tsv/AdsInfo.tsv\",\n",
    "                        header=True,\n",
    "                        inferSchema=True,\n",
    "                        sep=\"\\t\")"
   ]
  },
  {
   "cell_type": "code",
   "execution_count": 4,
   "metadata": {},
   "outputs": [
    {
     "name": "stdout",
     "output_type": "stream",
     "text": [
      "root\n",
      " |-- AdID: integer (nullable = true)\n",
      " |-- LocationID: integer (nullable = true)\n",
      " |-- CategoryID: integer (nullable = true)\n",
      " |-- Params: string (nullable = true)\n",
      " |-- Price: double (nullable = true)\n",
      " |-- Title: string (nullable = true)\n",
      " |-- IsContext: integer (nullable = true)\n",
      "\n"
     ]
    }
   ],
   "source": [
    "ads_info.printSchema()"
   ]
  },
  {
   "cell_type": "code",
   "execution_count": 5,
   "metadata": {},
   "outputs": [
    {
     "name": "stdout",
     "output_type": "stream",
     "text": [
      "+----+----------+----------+--------------------------------------------------+--------+---------------------------------------+---------+\n",
      "|AdID|LocationID|CategoryID|                                            Params|   Price|                                  Title|IsContext|\n",
      "+----+----------+----------+--------------------------------------------------+--------+---------------------------------------+---------+\n",
      "|   1|       343|        43|{1283:'С пробегом', 633:'Синий', 1159:0, 210:'T...|160000.0|                    Toyota Estima, 1993|        0|\n",
      "|   2|       992|        34|{817:'Кузов', 5:'Запчасти', 598:'Для автомобилей'}|   750.0|Передние брызговики Форд Фокус 2 родные|        0|\n",
      "|   3|      3771|        53|                              {181:'Промышленное'}| 18000.0|                               Дровокол|        0|\n",
      "|   4|      4294|        57|                      {130:'Приборы и аксессуары'}|  1500.0|                 Продам ходули складные|        0|\n",
      "|   5|      1344|        34|{817:'Автосвет', 5:'Запчасти', 598:'Для автомоб...|   800.0|          Поворотник R - Carina (20317)|        0|\n",
      "+----+----------+----------+--------------------------------------------------+--------+---------------------------------------+---------+\n",
      "only showing top 5 rows\n",
      "\n"
     ]
    }
   ],
   "source": [
    "ads_info.show(5, truncate=50)"
   ]
  },
  {
   "cell_type": "code",
   "execution_count": 6,
   "metadata": {},
   "outputs": [
    {
     "data": {
      "text/plain": [
       "36893298"
      ]
     },
     "execution_count": 6,
     "metadata": {},
     "output_type": "execute_result"
    }
   ],
   "source": [
    "ads_info.count()"
   ]
  },
  {
   "cell_type": "code",
   "execution_count": 7,
   "metadata": {},
   "outputs": [
    {
     "name": "stdout",
     "output_type": "stream",
     "text": [
      "root\n",
      " |-- CategoryID: integer (nullable = true)\n",
      " |-- Level: integer (nullable = true)\n",
      " |-- ParentCategoryID: integer (nullable = true)\n",
      " |-- SubcategoryID: integer (nullable = true)\n",
      "\n"
     ]
    }
   ],
   "source": [
    "category = spark.read.csv(BASE_PATH+\"Category.tsv/Category.tsv\",\n",
    "                        header=True,\n",
    "                        inferSchema=True,\n",
    "                        sep=\"\\t\") \n",
    "category.printSchema()"
   ]
  },
  {
   "cell_type": "code",
   "execution_count": 8,
   "metadata": {},
   "outputs": [
    {
     "name": "stdout",
     "output_type": "stream",
     "text": [
      "+----------+-----+----------------+-------------+\n",
      "|CategoryID|Level|ParentCategoryID|SubcategoryID|\n",
      "+----------+-----+----------------+-------------+\n",
      "|         0|    1|              10|           45|\n",
      "|         1|    2|               9|           45|\n",
      "|         2|    3|              12|            5|\n",
      "|         3|    3|               9|           25|\n",
      "|         4|    3|               2|           39|\n",
      "+----------+-----+----------------+-------------+\n",
      "only showing top 5 rows\n",
      "\n"
     ]
    }
   ],
   "source": [
    "category.show(5, truncate=50)"
   ]
  },
  {
   "cell_type": "code",
   "execution_count": 9,
   "metadata": {},
   "outputs": [
    {
     "data": {
      "text/plain": [
       "68"
      ]
     },
     "execution_count": 9,
     "metadata": {},
     "output_type": "execute_result"
    }
   ],
   "source": [
    "category.count()"
   ]
  },
  {
   "cell_type": "code",
   "execution_count": 10,
   "metadata": {},
   "outputs": [
    {
     "name": "stdout",
     "output_type": "stream",
     "text": [
      "root\n",
      " |-- LocationID: integer (nullable = true)\n",
      " |-- Level: integer (nullable = true)\n",
      " |-- RegionID: integer (nullable = true)\n",
      " |-- CityID: integer (nullable = true)\n",
      "\n"
     ]
    }
   ],
   "source": [
    "location = spark.read.csv(BASE_PATH+\"Location.tsv/Location.tsv\",\n",
    "                        header=True,\n",
    "                        inferSchema=True,\n",
    "                        sep=\"\\t\") \n",
    "location.printSchema()"
   ]
  },
  {
   "cell_type": "code",
   "execution_count": 11,
   "metadata": {},
   "outputs": [
    {
     "name": "stdout",
     "output_type": "stream",
     "text": [
      "+----------+-----+--------+------+\n",
      "|LocationID|Level|RegionID|CityID|\n",
      "+----------+-----+--------+------+\n",
      "|         7|    3|      83|  2386|\n",
      "|        23|    3|      28|  3224|\n",
      "|        26|    3|      41|  1316|\n",
      "|        30|    3|      63|  2565|\n",
      "|        32|    3|      28|  2819|\n",
      "+----------+-----+--------+------+\n",
      "only showing top 5 rows\n",
      "\n"
     ]
    }
   ],
   "source": [
    "location.show(5, truncate=50)"
   ]
  },
  {
   "cell_type": "code",
   "execution_count": 12,
   "metadata": {},
   "outputs": [
    {
     "data": {
      "text/plain": [
       "4080"
      ]
     },
     "execution_count": 12,
     "metadata": {},
     "output_type": "execute_result"
    }
   ],
   "source": [
    "location.count()"
   ]
  },
  {
   "cell_type": "code",
   "execution_count": 13,
   "metadata": {},
   "outputs": [
    {
     "name": "stdout",
     "output_type": "stream",
     "text": [
      "root\n",
      " |-- UserID: integer (nullable = true)\n",
      " |-- IPID: integer (nullable = true)\n",
      " |-- AdID: integer (nullable = true)\n",
      " |-- PhoneRequestDate: timestamp (nullable = true)\n",
      "\n"
     ]
    }
   ],
   "source": [
    "phone_request_stream = spark.read.csv(BASE_PATH+\"PhoneRequestsStream.tsv/PhoneRequestsStream.tsv\",\n",
    "                        header=True,\n",
    "                        inferSchema=True,\n",
    "                        sep=\"\\t\") \n",
    "phone_request_stream.printSchema()"
   ]
  },
  {
   "cell_type": "code",
   "execution_count": 14,
   "metadata": {},
   "outputs": [
    {
     "name": "stdout",
     "output_type": "stream",
     "text": [
      "+-------+-------+--------+-------------------+\n",
      "| UserID|   IPID|    AdID|   PhoneRequestDate|\n",
      "+-------+-------+--------+-------------------+\n",
      "| 352278|2135799|11720717|2015-04-25 00:00:00|\n",
      "| 392193| 298552|32569552|2015-04-25 00:00:00|\n",
      "| 670687|1426242|22443326|2015-04-25 00:00:00|\n",
      "|1504499| 437051|24774519|2015-04-25 00:00:00|\n",
      "|2648778| 818978|16455042|2015-04-25 00:00:00|\n",
      "+-------+-------+--------+-------------------+\n",
      "only showing top 5 rows\n",
      "\n"
     ]
    }
   ],
   "source": [
    "phone_request_stream.show(5, truncate=50)"
   ]
  },
  {
   "cell_type": "code",
   "execution_count": 15,
   "metadata": {},
   "outputs": [
    {
     "data": {
      "text/plain": [
       "13717580"
      ]
     },
     "execution_count": 15,
     "metadata": {},
     "output_type": "execute_result"
    }
   ],
   "source": [
    "phone_request_stream.count()"
   ]
  },
  {
   "cell_type": "code",
   "execution_count": 16,
   "metadata": {},
   "outputs": [
    {
     "name": "stdout",
     "output_type": "stream",
     "text": [
      "root\n",
      " |-- SearchID: integer (nullable = true)\n",
      " |-- SearchDate: timestamp (nullable = true)\n",
      " |-- IPID: integer (nullable = true)\n",
      " |-- UserID: integer (nullable = true)\n",
      " |-- IsUserLoggedOn: integer (nullable = true)\n",
      " |-- SearchQuery: string (nullable = true)\n",
      " |-- LocationID: integer (nullable = true)\n",
      " |-- CategoryID: integer (nullable = true)\n",
      " |-- SearchParams: string (nullable = true)\n",
      "\n"
     ]
    }
   ],
   "source": [
    "search_info = spark.read.csv(BASE_PATH+\"SearchInfo.tsv/SearchInfo.tsv\",\n",
    "                        header=True,\n",
    "                        inferSchema=True,\n",
    "                        sep=\"\\t\") \n",
    "search_info.printSchema()"
   ]
  },
  {
   "cell_type": "code",
   "execution_count": 17,
   "metadata": {},
   "outputs": [
    {
     "name": "stdout",
     "output_type": "stream",
     "text": [
      "+--------+-------------------+-------+-------+--------------+-----------+----------+----------+-------------------------------------------+\n",
      "|SearchID|         SearchDate|   IPID| UserID|IsUserLoggedOn|SearchQuery|LocationID|CategoryID|                               SearchParams|\n",
      "+--------+-------------------+-------+-------+--------------+-----------+----------+----------+-------------------------------------------+\n",
      "|       1|2015-05-18 19:54:32|1717090|3640266|             0|       NULL|      1729|         5|                                       NULL|\n",
      "|       2|2015-05-12 14:21:28|1731568| 769304|             0|       NULL|       697|        50|                                       NULL|\n",
      "|       3|2015-05-12 07:09:42| 793143| 640089|             0|       NULL|      1261|        12|                                       NULL|\n",
      "|       4|2015-05-10 18:11:01| 898705|3573776|             0|       NULL|      3960|        22|{83:'Обувь', 175:'Женская одежда', 88:'38'}|\n",
      "|       5|2015-04-25 13:04:09|2009707| 320674|             0|       NULL|       547|         1|                                       NULL|\n",
      "+--------+-------------------+-------+-------+--------------+-----------+----------+----------+-------------------------------------------+\n",
      "only showing top 5 rows\n",
      "\n"
     ]
    }
   ],
   "source": [
    "search_info.show(5, truncate=50)"
   ]
  },
  {
   "cell_type": "code",
   "execution_count": 18,
   "metadata": {},
   "outputs": [
    {
     "data": {
      "text/plain": [
       "112159462"
      ]
     },
     "execution_count": 18,
     "metadata": {},
     "output_type": "execute_result"
    }
   ],
   "source": [
    "search_info.count()"
   ]
  },
  {
   "cell_type": "code",
   "execution_count": 19,
   "metadata": {},
   "outputs": [
    {
     "name": "stdout",
     "output_type": "stream",
     "text": [
      "root\n",
      " |-- SearchID: integer (nullable = true)\n",
      " |-- AdID: integer (nullable = true)\n",
      " |-- Position: integer (nullable = true)\n",
      " |-- ObjectType: integer (nullable = true)\n",
      " |-- HistCTR: double (nullable = true)\n",
      " |-- IsClick: integer (nullable = true)\n",
      "\n"
     ]
    }
   ],
   "source": [
    "train_search_stream = spark.read.csv(BASE_PATH+\"trainSearchStream.tsv/trainSearchStream.tsv\",\n",
    "                        header=True,\n",
    "                        inferSchema=True,\n",
    "                        sep=\"\\t\") \n",
    "train_search_stream.printSchema()"
   ]
  },
  {
   "cell_type": "code",
   "execution_count": 20,
   "metadata": {},
   "outputs": [
    {
     "name": "stdout",
     "output_type": "stream",
     "text": [
      "+--------+--------+--------+----------+--------+-------+\n",
      "|SearchID|    AdID|Position|ObjectType| HistCTR|IsClick|\n",
      "+--------+--------+--------+----------+--------+-------+\n",
      "|       2|11441863|       1|         3|0.001804|      0|\n",
      "|       2|22968355|       7|         3|0.004723|      0|\n",
      "|       3|  212187|       7|         3|0.029701|      0|\n",
      "|       3|34084553|       1|         3|  0.0043|      0|\n",
      "|       3|36256251|       2|         2|    NULL|   NULL|\n",
      "+--------+--------+--------+----------+--------+-------+\n",
      "only showing top 5 rows\n",
      "\n"
     ]
    }
   ],
   "source": [
    "train_search_stream.show(5, truncate=50)"
   ]
  },
  {
   "cell_type": "code",
   "execution_count": 21,
   "metadata": {},
   "outputs": [
    {
     "data": {
      "text/plain": [
       "392356948"
      ]
     },
     "execution_count": 21,
     "metadata": {},
     "output_type": "execute_result"
    }
   ],
   "source": [
    "train_search_stream.count()"
   ]
  },
  {
   "cell_type": "code",
   "execution_count": 50,
   "metadata": {},
   "outputs": [
    {
     "data": {
      "text/plain": [
       "190157735"
      ]
     },
     "execution_count": 50,
     "metadata": {},
     "output_type": "execute_result"
    }
   ],
   "source": [
    "train_search_stream.where(\"isClick is not null and HistCTR is not null\").count()"
   ]
  },
  {
   "cell_type": "code",
   "execution_count": 51,
   "metadata": {},
   "outputs": [],
   "source": [
    "train_search_stream = train_search_stream.where(\"isClick is not null and HistCTR is not null\")"
   ]
  },
  {
   "cell_type": "code",
   "execution_count": 52,
   "metadata": {},
   "outputs": [
    {
     "data": {
      "text/plain": [
       "107863985"
      ]
     },
     "execution_count": 52,
     "metadata": {},
     "output_type": "execute_result"
    }
   ],
   "source": [
    "train_search_stream.select(\"SearchID\").distinct().count()"
   ]
  },
  {
   "cell_type": "code",
   "execution_count": 25,
   "metadata": {},
   "outputs": [],
   "source": [
    "train_search_stream_trunc = train_search_stream.join(train_search_stream.select(\"SearchID\").distinct().limit(500), on=[\"SearchID\"])"
   ]
  },
  {
   "cell_type": "code",
   "execution_count": 26,
   "metadata": {},
   "outputs": [
    {
     "name": "stdout",
     "output_type": "stream",
     "text": [
      "root\n",
      " |-- UserID: integer (nullable = true)\n",
      " |-- UserAgentID: integer (nullable = true)\n",
      " |-- UserAgentOSID: integer (nullable = true)\n",
      " |-- UserDeviceID: integer (nullable = true)\n",
      " |-- UserAgentFamilyID: integer (nullable = true)\n",
      "\n"
     ]
    }
   ],
   "source": [
    "user_info = spark.read.csv(BASE_PATH+\"UserInfo.tsv/UserInfo.tsv\",\n",
    "                        header=True,\n",
    "                        inferSchema=True,\n",
    "                        sep=\"\\t\")\n",
    "user_info.printSchema()"
   ]
  },
  {
   "cell_type": "code",
   "execution_count": 27,
   "metadata": {},
   "outputs": [
    {
     "name": "stdout",
     "output_type": "stream",
     "text": [
      "+------+-----------+-------------+------------+-----------------+\n",
      "|UserID|UserAgentID|UserAgentOSID|UserDeviceID|UserAgentFamilyID|\n",
      "+------+-----------+-------------+------------+-----------------+\n",
      "|     1|      44073|           30|        2019|                9|\n",
      "|     2|      12505|           20|        2014|               85|\n",
      "|     3|      24256|           20|        2014|               64|\n",
      "|     4|      57133|           20|        2014|               25|\n",
      "|     5|      57133|           20|        2014|               25|\n",
      "+------+-----------+-------------+------------+-----------------+\n",
      "only showing top 5 rows\n",
      "\n"
     ]
    }
   ],
   "source": [
    "user_info.show(5, truncate=50)"
   ]
  },
  {
   "cell_type": "code",
   "execution_count": 28,
   "metadata": {},
   "outputs": [
    {
     "data": {
      "text/plain": [
       "4284823"
      ]
     },
     "execution_count": 28,
     "metadata": {},
     "output_type": "execute_result"
    }
   ],
   "source": [
    "user_info.count()"
   ]
  },
  {
   "cell_type": "code",
   "execution_count": 29,
   "metadata": {},
   "outputs": [
    {
     "name": "stdout",
     "output_type": "stream",
     "text": [
      "root\n",
      " |-- UserID: integer (nullable = true)\n",
      " |-- IPID: integer (nullable = true)\n",
      " |-- AdID: integer (nullable = true)\n",
      " |-- ViewDate: timestamp (nullable = true)\n",
      "\n"
     ]
    }
   ],
   "source": [
    "visits_stream = spark.read.csv(BASE_PATH+\"VisitsStream.tsv/VisitsStream.tsv\",\n",
    "                        header=True,\n",
    "                        inferSchema=True,\n",
    "                        sep=\"\\t\")\n",
    "visits_stream.printSchema()"
   ]
  },
  {
   "cell_type": "code",
   "execution_count": 30,
   "metadata": {},
   "outputs": [
    {
     "name": "stdout",
     "output_type": "stream",
     "text": [
      "+------+-------+--------+-------------------+\n",
      "|UserID|   IPID|    AdID|           ViewDate|\n",
      "+------+-------+--------+-------------------+\n",
      "| 59703|1259356|  469877|2015-04-25 00:00:00|\n",
      "|154389|1846749|27252551|2015-04-25 00:00:00|\n",
      "|218628|2108380|31685325|2015-04-25 00:00:00|\n",
      "|231535| 837110|18827716|2015-04-25 00:00:00|\n",
      "|282306|1654210|29363673|2015-04-25 00:00:00|\n",
      "+------+-------+--------+-------------------+\n",
      "only showing top 5 rows\n",
      "\n"
     ]
    }
   ],
   "source": [
    "visits_stream.show(5, truncate=50)"
   ]
  },
  {
   "cell_type": "code",
   "execution_count": 31,
   "metadata": {},
   "outputs": [
    {
     "data": {
      "text/plain": [
       "286821375"
      ]
     },
     "execution_count": 31,
     "metadata": {},
     "output_type": "execute_result"
    }
   ],
   "source": [
    "visits_stream.count()"
   ]
  },
  {
   "cell_type": "code",
   "execution_count": 32,
   "metadata": {},
   "outputs": [],
   "source": [
    "search_info_location_category = search_info.join(location, on=[\"LocationID\"]).join(category, on=[\"CategoryID\"])"
   ]
  },
  {
   "cell_type": "code",
   "execution_count": 33,
   "metadata": {},
   "outputs": [],
   "source": [
    "user_info_visits_stream_phone_request_stream = user_info.join(visits_stream, on=[\"UserID\"]).join(phone_request_stream, on=[\"UserID\"])"
   ]
  },
  {
   "cell_type": "code",
   "execution_count": 54,
   "metadata": {},
   "outputs": [
    {
     "data": {
      "text/plain": [
       "['UserID',\n",
       " 'CategoryID',\n",
       " 'LocationID',\n",
       " 'SearchID',\n",
       " 'SearchDate',\n",
       " 'IPID',\n",
       " 'IsUserLoggedOn',\n",
       " 'SearchQuery',\n",
       " 'SearchParams',\n",
       " 'Level',\n",
       " 'RegionID',\n",
       " 'CityID',\n",
       " 'Level',\n",
       " 'ParentCategoryID',\n",
       " 'SubcategoryID',\n",
       " 'UserAgentID',\n",
       " 'UserAgentOSID',\n",
       " 'UserDeviceID',\n",
       " 'UserAgentFamilyID',\n",
       " 'IPID',\n",
       " 'AdID',\n",
       " 'ViewDate',\n",
       " 'IPID',\n",
       " 'AdID',\n",
       " 'PhoneRequestDate']"
      ]
     },
     "execution_count": 54,
     "metadata": {},
     "output_type": "execute_result"
    }
   ],
   "source": [
    "search_user_info = search_info_location_category.join(user_info_visits_stream_phone_request_stream, on=[\"UserID\"])\n",
    "search_user_info.columns"
   ]
  },
  {
   "cell_type": "code",
   "execution_count": 34,
   "metadata": {},
   "outputs": [],
   "source": [
    "# (\n",
    "#     train_search_stream_trunc.join(search_info_location_category, on=[\"SearchID\"])\n",
    "#     .join(ads_info, on=[\"AdID\"])\n",
    "#     .join(user_info_visits_stream_phone_request_stream, on=[\"UserID\"])\n",
    "# ).count()"
   ]
  },
  {
   "cell_type": "code",
   "execution_count": 36,
   "metadata": {},
   "outputs": [
    {
     "data": {
      "text/plain": [
       "['UserID',\n",
       " 'AdID',\n",
       " 'SearchID',\n",
       " 'Position',\n",
       " 'ObjectType',\n",
       " 'HistCTR',\n",
       " 'IsClick',\n",
       " 'CategoryID',\n",
       " 'LocationID',\n",
       " 'SearchDate',\n",
       " 'IPID',\n",
       " 'IsUserLoggedOn',\n",
       " 'SearchQuery',\n",
       " 'SearchParams',\n",
       " 'Level',\n",
       " 'RegionID',\n",
       " 'CityID',\n",
       " 'Level',\n",
       " 'ParentCategoryID',\n",
       " 'SubcategoryID',\n",
       " 'LocationID',\n",
       " 'CategoryID',\n",
       " 'Params',\n",
       " 'Price',\n",
       " 'Title',\n",
       " 'IsContext',\n",
       " 'UserAgentID',\n",
       " 'UserAgentOSID',\n",
       " 'UserDeviceID',\n",
       " 'UserAgentFamilyID',\n",
       " 'IPID',\n",
       " 'AdID',\n",
       " 'ViewDate',\n",
       " 'IPID',\n",
       " 'AdID',\n",
       " 'PhoneRequestDate']"
      ]
     },
     "execution_count": 36,
     "metadata": {},
     "output_type": "execute_result"
    }
   ],
   "source": [
    "(\n",
    "    train_search_stream_trunc.join(search_info_location_category, on=[\"SearchID\"])\n",
    "    .join(ads_info, on=[\"AdID\"])\n",
    "    .join(user_info_visits_stream_phone_request_stream, on=[\"UserID\"])\n",
    ").columns"
   ]
  },
  {
   "cell_type": "code",
   "execution_count": 35,
   "metadata": {},
   "outputs": [
    {
     "ename": "AnalysisException",
     "evalue": "[COLUMN_ALREADY_EXISTS] The column `adid` already exists. Consider to choose another name or rename the existing column.",
     "output_type": "error",
     "traceback": [
      "\u001b[1;31m---------------------------------------------------------------------------\u001b[0m",
      "\u001b[1;31mAnalysisException\u001b[0m                         Traceback (most recent call last)",
      "Cell \u001b[1;32mIn[35], line 11\u001b[0m\n\u001b[0;32m      1\u001b[0m train_sample \u001b[38;5;241m=\u001b[39m (\n\u001b[0;32m      2\u001b[0m     train_search_stream_trunc\u001b[38;5;241m.\u001b[39mjoin(search_info_location_category, on\u001b[38;5;241m=\u001b[39m[\u001b[38;5;124m\"\u001b[39m\u001b[38;5;124mSearchID\u001b[39m\u001b[38;5;124m\"\u001b[39m])\n\u001b[0;32m      3\u001b[0m     \u001b[38;5;241m.\u001b[39mjoin(ads_info, on\u001b[38;5;241m=\u001b[39m[\u001b[38;5;124m\"\u001b[39m\u001b[38;5;124mAdID\u001b[39m\u001b[38;5;124m\"\u001b[39m])\n\u001b[0;32m      4\u001b[0m     \u001b[38;5;241m.\u001b[39mjoin(user_info_visits_stream_phone_request_stream, on\u001b[38;5;241m=\u001b[39m[\u001b[38;5;124m\"\u001b[39m\u001b[38;5;124mUserID\u001b[39m\u001b[38;5;124m\"\u001b[39m])\n\u001b[0;32m      5\u001b[0m )\n\u001b[0;32m      6\u001b[0m (\n\u001b[0;32m      7\u001b[0m     \u001b[43mtrain_sample\u001b[49m\n\u001b[0;32m      8\u001b[0m \u001b[43m    \u001b[49m\u001b[38;5;241;43m.\u001b[39;49m\u001b[43mwrite\u001b[49m\n\u001b[0;32m      9\u001b[0m \u001b[43m    \u001b[49m\u001b[38;5;241;43m.\u001b[39;49m\u001b[43mformat\u001b[49m\u001b[43m(\u001b[49m\u001b[38;5;124;43m\"\u001b[39;49m\u001b[38;5;124;43mparquet\u001b[39;49m\u001b[38;5;124;43m\"\u001b[39;49m\u001b[43m)\u001b[49m\n\u001b[0;32m     10\u001b[0m \u001b[43m    \u001b[49m\u001b[38;5;241;43m.\u001b[39;49m\u001b[43mmode\u001b[49m\u001b[43m(\u001b[49m\u001b[38;5;124;43m'\u001b[39;49m\u001b[38;5;124;43moverwrite\u001b[39;49m\u001b[38;5;124;43m'\u001b[39;49m\u001b[43m)\u001b[49m\n\u001b[1;32m---> 11\u001b[0m \u001b[43m    \u001b[49m\u001b[38;5;241;43m.\u001b[39;49m\u001b[43msave\u001b[49m\u001b[43m(\u001b[49m\u001b[43mBASE_PATH\u001b[49m\u001b[38;5;241;43m+\u001b[39;49m\u001b[38;5;124;43m\"\u001b[39;49m\u001b[38;5;124;43mtrain_sample\u001b[39;49m\u001b[38;5;124;43m\"\u001b[39;49m\u001b[43m)\u001b[49m\n\u001b[0;32m     12\u001b[0m )\n",
      "File \u001b[1;32mc:\\Users\\smend\\miniconda3\\envs\\stevens\\Lib\\site-packages\\pyspark\\sql\\readwriter.py:1463\u001b[0m, in \u001b[0;36mDataFrameWriter.save\u001b[1;34m(self, path, format, mode, partitionBy, **options)\u001b[0m\n\u001b[0;32m   1461\u001b[0m     \u001b[38;5;28mself\u001b[39m\u001b[38;5;241m.\u001b[39m_jwrite\u001b[38;5;241m.\u001b[39msave()\n\u001b[0;32m   1462\u001b[0m \u001b[38;5;28;01melse\u001b[39;00m:\n\u001b[1;32m-> 1463\u001b[0m     \u001b[38;5;28;43mself\u001b[39;49m\u001b[38;5;241;43m.\u001b[39;49m\u001b[43m_jwrite\u001b[49m\u001b[38;5;241;43m.\u001b[39;49m\u001b[43msave\u001b[49m\u001b[43m(\u001b[49m\u001b[43mpath\u001b[49m\u001b[43m)\u001b[49m\n",
      "File \u001b[1;32mc:\\Users\\smend\\miniconda3\\envs\\stevens\\Lib\\site-packages\\py4j\\java_gateway.py:1322\u001b[0m, in \u001b[0;36mJavaMember.__call__\u001b[1;34m(self, *args)\u001b[0m\n\u001b[0;32m   1316\u001b[0m command \u001b[38;5;241m=\u001b[39m proto\u001b[38;5;241m.\u001b[39mCALL_COMMAND_NAME \u001b[38;5;241m+\u001b[39m\\\n\u001b[0;32m   1317\u001b[0m     \u001b[38;5;28mself\u001b[39m\u001b[38;5;241m.\u001b[39mcommand_header \u001b[38;5;241m+\u001b[39m\\\n\u001b[0;32m   1318\u001b[0m     args_command \u001b[38;5;241m+\u001b[39m\\\n\u001b[0;32m   1319\u001b[0m     proto\u001b[38;5;241m.\u001b[39mEND_COMMAND_PART\n\u001b[0;32m   1321\u001b[0m answer \u001b[38;5;241m=\u001b[39m \u001b[38;5;28mself\u001b[39m\u001b[38;5;241m.\u001b[39mgateway_client\u001b[38;5;241m.\u001b[39msend_command(command)\n\u001b[1;32m-> 1322\u001b[0m return_value \u001b[38;5;241m=\u001b[39m \u001b[43mget_return_value\u001b[49m\u001b[43m(\u001b[49m\n\u001b[0;32m   1323\u001b[0m \u001b[43m    \u001b[49m\u001b[43manswer\u001b[49m\u001b[43m,\u001b[49m\u001b[43m \u001b[49m\u001b[38;5;28;43mself\u001b[39;49m\u001b[38;5;241;43m.\u001b[39;49m\u001b[43mgateway_client\u001b[49m\u001b[43m,\u001b[49m\u001b[43m \u001b[49m\u001b[38;5;28;43mself\u001b[39;49m\u001b[38;5;241;43m.\u001b[39;49m\u001b[43mtarget_id\u001b[49m\u001b[43m,\u001b[49m\u001b[43m \u001b[49m\u001b[38;5;28;43mself\u001b[39;49m\u001b[38;5;241;43m.\u001b[39;49m\u001b[43mname\u001b[49m\u001b[43m)\u001b[49m\n\u001b[0;32m   1325\u001b[0m \u001b[38;5;28;01mfor\u001b[39;00m temp_arg \u001b[38;5;129;01min\u001b[39;00m temp_args:\n\u001b[0;32m   1326\u001b[0m     \u001b[38;5;28;01mif\u001b[39;00m \u001b[38;5;28mhasattr\u001b[39m(temp_arg, \u001b[38;5;124m\"\u001b[39m\u001b[38;5;124m_detach\u001b[39m\u001b[38;5;124m\"\u001b[39m):\n",
      "File \u001b[1;32mc:\\Users\\smend\\miniconda3\\envs\\stevens\\Lib\\site-packages\\pyspark\\errors\\exceptions\\captured.py:185\u001b[0m, in \u001b[0;36mcapture_sql_exception.<locals>.deco\u001b[1;34m(*a, **kw)\u001b[0m\n\u001b[0;32m    181\u001b[0m converted \u001b[38;5;241m=\u001b[39m convert_exception(e\u001b[38;5;241m.\u001b[39mjava_exception)\n\u001b[0;32m    182\u001b[0m \u001b[38;5;28;01mif\u001b[39;00m \u001b[38;5;129;01mnot\u001b[39;00m \u001b[38;5;28misinstance\u001b[39m(converted, UnknownException):\n\u001b[0;32m    183\u001b[0m     \u001b[38;5;66;03m# Hide where the exception came from that shows a non-Pythonic\u001b[39;00m\n\u001b[0;32m    184\u001b[0m     \u001b[38;5;66;03m# JVM exception message.\u001b[39;00m\n\u001b[1;32m--> 185\u001b[0m     \u001b[38;5;28;01mraise\u001b[39;00m converted \u001b[38;5;28;01mfrom\u001b[39;00m \u001b[38;5;28;01mNone\u001b[39;00m\n\u001b[0;32m    186\u001b[0m \u001b[38;5;28;01melse\u001b[39;00m:\n\u001b[0;32m    187\u001b[0m     \u001b[38;5;28;01mraise\u001b[39;00m\n",
      "\u001b[1;31mAnalysisException\u001b[0m: [COLUMN_ALREADY_EXISTS] The column `adid` already exists. Consider to choose another name or rename the existing column."
     ]
    }
   ],
   "source": [
    "train_sample = (\n",
    "    train_search_stream_trunc.join(search_info_location_category, on=[\"SearchID\"])\n",
    "    .join(ads_info, on=[\"AdID\"])\n",
    "    .join(user_info_visits_stream_phone_request_stream, on=[\"UserID\"])\n",
    ")\n",
    "(\n",
    "    train_sample\n",
    "    .write\n",
    "    .format(\"parquet\")\n",
    "    .mode('overwrite')\n",
    "    .save(BASE_PATH+\"train_sample\")\n",
    ")"
   ]
  },
  {
   "cell_type": "code",
   "execution_count": null,
   "metadata": {},
   "outputs": [],
   "source": []
  }
 ],
 "metadata": {
  "kernelspec": {
   "display_name": "stevens",
   "language": "python",
   "name": "python3"
  },
  "language_info": {
   "codemirror_mode": {
    "name": "ipython",
    "version": 3
   },
   "file_extension": ".py",
   "mimetype": "text/x-python",
   "name": "python",
   "nbconvert_exporter": "python",
   "pygments_lexer": "ipython3",
   "version": "3.11.5"
  }
 },
 "nbformat": 4,
 "nbformat_minor": 4
}
