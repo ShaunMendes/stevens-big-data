{
 "cells": [
  {
   "cell_type": "code",
   "execution_count": 1,
   "id": "f61c1f41-d2cf-42ce-ab0e-25d48adb1550",
   "metadata": {},
   "outputs": [],
   "source": [
    "from functools import reduce\n",
    "from glob import glob"
   ]
  },
  {
   "cell_type": "code",
   "execution_count": 2,
   "id": "8093e2fd-a34f-42fd-98ae-1cba5388e208",
   "metadata": {},
   "outputs": [],
   "source": [
    "# import pyspark.pandas as pd\n",
    "import pandas as pd"
   ]
  },
  {
   "cell_type": "code",
   "execution_count": 3,
   "id": "3ea03a7c-0cbb-4ab9-bb00-06d7ed36b0d5",
   "metadata": {},
   "outputs": [
    {
     "data": {
      "text/html": [
       "<div>\n",
       "<style scoped>\n",
       "    .dataframe tbody tr th:only-of-type {\n",
       "        vertical-align: middle;\n",
       "    }\n",
       "\n",
       "    .dataframe tbody tr th {\n",
       "        vertical-align: top;\n",
       "    }\n",
       "\n",
       "    .dataframe thead th {\n",
       "        text-align: right;\n",
       "    }\n",
       "</style>\n",
       "<table border=\"1\" class=\"dataframe\">\n",
       "  <thead>\n",
       "    <tr style=\"text-align: right;\">\n",
       "      <th></th>\n",
       "      <th>app_id</th>\n",
       "      <th>flag</th>\n",
       "    </tr>\n",
       "  </thead>\n",
       "  <tbody>\n",
       "    <tr>\n",
       "      <th>0</th>\n",
       "      <td>1063620</td>\n",
       "      <td>0.5</td>\n",
       "    </tr>\n",
       "    <tr>\n",
       "      <th>1</th>\n",
       "      <td>1063621</td>\n",
       "      <td>0.5</td>\n",
       "    </tr>\n",
       "    <tr>\n",
       "      <th>2</th>\n",
       "      <td>1063622</td>\n",
       "      <td>0.5</td>\n",
       "    </tr>\n",
       "    <tr>\n",
       "      <th>3</th>\n",
       "      <td>1063623</td>\n",
       "      <td>0.5</td>\n",
       "    </tr>\n",
       "    <tr>\n",
       "      <th>4</th>\n",
       "      <td>1063624</td>\n",
       "      <td>0.5</td>\n",
       "    </tr>\n",
       "  </tbody>\n",
       "</table>\n",
       "</div>"
      ],
      "text/plain": [
       "    app_id  flag\n",
       "0  1063620   0.5\n",
       "1  1063621   0.5\n",
       "2  1063622   0.5\n",
       "3  1063623   0.5\n",
       "4  1063624   0.5"
      ]
     },
     "execution_count": 3,
     "metadata": {},
     "output_type": "execute_result"
    }
   ],
   "source": [
    "sample = pd.read_csv(\"./alphabattle2.0/alfabattle2_alpha_sample.csv\")\n",
    "sample.head()"
   ]
  },
  {
   "cell_type": "code",
   "execution_count": 4,
   "id": "b5e89889-8fd7-46f7-82ce-5e7c2c38d55b",
   "metadata": {},
   "outputs": [
    {
     "data": {
      "text/plain": [
       "(502716, 2)"
      ]
     },
     "execution_count": 4,
     "metadata": {},
     "output_type": "execute_result"
    }
   ],
   "source": [
    "sample.shape"
   ]
  },
  {
   "cell_type": "code",
   "execution_count": 5,
   "id": "e8325acc-6bd6-4678-b94b-119c202cd6b5",
   "metadata": {},
   "outputs": [
    {
     "data": {
      "text/html": [
       "<div>\n",
       "<style scoped>\n",
       "    .dataframe tbody tr th:only-of-type {\n",
       "        vertical-align: middle;\n",
       "    }\n",
       "\n",
       "    .dataframe tbody tr th {\n",
       "        vertical-align: top;\n",
       "    }\n",
       "\n",
       "    .dataframe thead th {\n",
       "        text-align: right;\n",
       "    }\n",
       "</style>\n",
       "<table border=\"1\" class=\"dataframe\">\n",
       "  <thead>\n",
       "    <tr style=\"text-align: right;\">\n",
       "      <th></th>\n",
       "      <th>app_id</th>\n",
       "      <th>product</th>\n",
       "    </tr>\n",
       "  </thead>\n",
       "  <tbody>\n",
       "    <tr>\n",
       "      <th>0</th>\n",
       "      <td>1063620</td>\n",
       "      <td>0</td>\n",
       "    </tr>\n",
       "    <tr>\n",
       "      <th>1</th>\n",
       "      <td>1063621</td>\n",
       "      <td>0</td>\n",
       "    </tr>\n",
       "    <tr>\n",
       "      <th>2</th>\n",
       "      <td>1063622</td>\n",
       "      <td>1</td>\n",
       "    </tr>\n",
       "    <tr>\n",
       "      <th>3</th>\n",
       "      <td>1063623</td>\n",
       "      <td>1</td>\n",
       "    </tr>\n",
       "    <tr>\n",
       "      <th>4</th>\n",
       "      <td>1063624</td>\n",
       "      <td>2</td>\n",
       "    </tr>\n",
       "  </tbody>\n",
       "</table>\n",
       "</div>"
      ],
      "text/plain": [
       "    app_id  product\n",
       "0  1063620        0\n",
       "1  1063621        0\n",
       "2  1063622        1\n",
       "3  1063623        1\n",
       "4  1063624        2"
      ]
     },
     "execution_count": 5,
     "metadata": {},
     "output_type": "execute_result"
    }
   ],
   "source": [
    "test = pd.read_csv(\"./alphabattle2.0/alfabattle2_test_target_contest.csv\")\n",
    "test.head()"
   ]
  },
  {
   "cell_type": "code",
   "execution_count": 5,
   "id": "37136a98-8681-48b5-8591-ebdc6cf614af",
   "metadata": {},
   "outputs": [
    {
     "data": {
      "text/plain": [
       "1063620"
      ]
     },
     "execution_count": 5,
     "metadata": {},
     "output_type": "execute_result"
    }
   ],
   "source": [
    "sample[\"app_id\"].min()"
   ]
  },
  {
   "cell_type": "code",
   "execution_count": 6,
   "id": "c772014a-18e9-4019-af82-9efca65366d7",
   "metadata": {},
   "outputs": [
    {
     "data": {
      "text/plain": [
       "1580442"
      ]
     },
     "execution_count": 6,
     "metadata": {},
     "output_type": "execute_result"
    }
   ],
   "source": [
    "sample[\"app_id\"].max()"
   ]
  },
  {
   "cell_type": "code",
   "execution_count": 7,
   "id": "b85e2cba-02af-4c4a-938b-fb5548728107",
   "metadata": {},
   "outputs": [
    {
     "data": {
      "text/plain": [
       "['./alphabattle2.0/alfabattle2_test_transactions_contest/test_transactions_contest\\\\part_000_1063620_to_1074462.parquet',\n",
       " './alphabattle2.0/alfabattle2_test_transactions_contest/test_transactions_contest\\\\part_001_1074463_to_1085303.parquet',\n",
       " './alphabattle2.0/alfabattle2_test_transactions_contest/test_transactions_contest\\\\part_002_1085304_to_1095174.parquet',\n",
       " './alphabattle2.0/alfabattle2_test_transactions_contest/test_transactions_contest\\\\part_003_1095175_to_1105002.parquet',\n",
       " './alphabattle2.0/alfabattle2_test_transactions_contest/test_transactions_contest\\\\part_004_1105003_to_1116054.parquet',\n",
       " './alphabattle2.0/alfabattle2_test_transactions_contest/test_transactions_contest\\\\part_005_1116055_to_1127527.parquet',\n",
       " './alphabattle2.0/alfabattle2_test_transactions_contest/test_transactions_contest\\\\part_006_1127528_to_1137672.parquet',\n",
       " './alphabattle2.0/alfabattle2_test_transactions_contest/test_transactions_contest\\\\part_007_1137673_to_1147504.parquet',\n",
       " './alphabattle2.0/alfabattle2_test_transactions_contest/test_transactions_contest\\\\part_008_1147505_to_1157749.parquet',\n",
       " './alphabattle2.0/alfabattle2_test_transactions_contest/test_transactions_contest\\\\part_009_1157750_to_1167980.parquet',\n",
       " './alphabattle2.0/alfabattle2_test_transactions_contest/test_transactions_contest\\\\part_010_1167981_to_1178851.parquet',\n",
       " './alphabattle2.0/alfabattle2_test_transactions_contest/test_transactions_contest\\\\part_011_1178852_to_1190630.parquet',\n",
       " './alphabattle2.0/alfabattle2_test_transactions_contest/test_transactions_contest\\\\part_012_1190631_to_1200939.parquet',\n",
       " './alphabattle2.0/alfabattle2_test_transactions_contest/test_transactions_contest\\\\part_013_1200940_to_1211425.parquet',\n",
       " './alphabattle2.0/alfabattle2_test_transactions_contest/test_transactions_contest\\\\part_014_1211426_to_1222122.parquet',\n",
       " './alphabattle2.0/alfabattle2_test_transactions_contest/test_transactions_contest\\\\part_015_1222123_to_1232298.parquet',\n",
       " './alphabattle2.0/alfabattle2_test_transactions_contest/test_transactions_contest\\\\part_016_1232299_to_1242388.parquet',\n",
       " './alphabattle2.0/alfabattle2_test_transactions_contest/test_transactions_contest\\\\part_017_1242389_to_1252416.parquet',\n",
       " './alphabattle2.0/alfabattle2_test_transactions_contest/test_transactions_contest\\\\part_018_1252417_to_1262614.parquet',\n",
       " './alphabattle2.0/alfabattle2_test_transactions_contest/test_transactions_contest\\\\part_019_1262615_to_1273376.parquet',\n",
       " './alphabattle2.0/alfabattle2_test_transactions_contest/test_transactions_contest\\\\part_020_1273377_to_1283831.parquet',\n",
       " './alphabattle2.0/alfabattle2_test_transactions_contest/test_transactions_contest\\\\part_021_1283832_to_1294494.parquet',\n",
       " './alphabattle2.0/alfabattle2_test_transactions_contest/test_transactions_contest\\\\part_022_1294495_to_1304964.parquet',\n",
       " './alphabattle2.0/alfabattle2_test_transactions_contest/test_transactions_contest\\\\part_023_1304965_to_1314698.parquet',\n",
       " './alphabattle2.0/alfabattle2_test_transactions_contest/test_transactions_contest\\\\part_024_1314699_to_1324518.parquet',\n",
       " './alphabattle2.0/alfabattle2_test_transactions_contest/test_transactions_contest\\\\part_025_1324519_to_1334901.parquet',\n",
       " './alphabattle2.0/alfabattle2_test_transactions_contest/test_transactions_contest\\\\part_026_1334902_to_1345587.parquet',\n",
       " './alphabattle2.0/alfabattle2_test_transactions_contest/test_transactions_contest\\\\part_027_1345588_to_1355874.parquet',\n",
       " './alphabattle2.0/alfabattle2_test_transactions_contest/test_transactions_contest\\\\part_028_1355875_to_1366314.parquet',\n",
       " './alphabattle2.0/alfabattle2_test_transactions_contest/test_transactions_contest\\\\part_029_1366315_to_1376991.parquet',\n",
       " './alphabattle2.0/alfabattle2_test_transactions_contest/test_transactions_contest\\\\part_030_1376992_to_1386419.parquet',\n",
       " './alphabattle2.0/alfabattle2_test_transactions_contest/test_transactions_contest\\\\part_031_1386420_to_1395884.parquet',\n",
       " './alphabattle2.0/alfabattle2_test_transactions_contest/test_transactions_contest\\\\part_032_1395885_to_1405390.parquet',\n",
       " './alphabattle2.0/alfabattle2_test_transactions_contest/test_transactions_contest\\\\part_033_1405391_to_1416489.parquet',\n",
       " './alphabattle2.0/alfabattle2_test_transactions_contest/test_transactions_contest\\\\part_034_1416492_to_1426763.parquet',\n",
       " './alphabattle2.0/alfabattle2_test_transactions_contest/test_transactions_contest\\\\part_035_1426764_to_1436400.parquet',\n",
       " './alphabattle2.0/alfabattle2_test_transactions_contest/test_transactions_contest\\\\part_036_1436401_to_1448080.parquet',\n",
       " './alphabattle2.0/alfabattle2_test_transactions_contest/test_transactions_contest\\\\part_037_1448081_to_1459730.parquet',\n",
       " './alphabattle2.0/alfabattle2_test_transactions_contest/test_transactions_contest\\\\part_038_1459731_to_1470134.parquet',\n",
       " './alphabattle2.0/alfabattle2_test_transactions_contest/test_transactions_contest\\\\part_039_1470135_to_1479802.parquet',\n",
       " './alphabattle2.0/alfabattle2_test_transactions_contest/test_transactions_contest\\\\part_040_1479803_to_1489232.parquet',\n",
       " './alphabattle2.0/alfabattle2_test_transactions_contest/test_transactions_contest\\\\part_041_1489233_to_1499712.parquet',\n",
       " './alphabattle2.0/alfabattle2_test_transactions_contest/test_transactions_contest\\\\part_042_1499713_to_1510447.parquet',\n",
       " './alphabattle2.0/alfabattle2_test_transactions_contest/test_transactions_contest\\\\part_043_1510448_to_1520793.parquet',\n",
       " './alphabattle2.0/alfabattle2_test_transactions_contest/test_transactions_contest\\\\part_044_1520794_to_1531282.parquet',\n",
       " './alphabattle2.0/alfabattle2_test_transactions_contest/test_transactions_contest\\\\part_045_1531283_to_1541445.parquet',\n",
       " './alphabattle2.0/alfabattle2_test_transactions_contest/test_transactions_contest\\\\part_046_1541446_to_1551040.parquet',\n",
       " './alphabattle2.0/alfabattle2_test_transactions_contest/test_transactions_contest\\\\part_047_1551041_to_1560328.parquet',\n",
       " './alphabattle2.0/alfabattle2_test_transactions_contest/test_transactions_contest\\\\part_048_1560329_to_1570341.parquet',\n",
       " './alphabattle2.0/alfabattle2_test_transactions_contest/test_transactions_contest\\\\part_049_1570342_to_1580442.parquet']"
      ]
     },
     "execution_count": 7,
     "metadata": {},
     "output_type": "execute_result"
    }
   ],
   "source": [
    "transaction_data_list = glob(\"./alphabattle2.0/alfabattle2_test_transactions_contest/test_transactions_contest/*.parquet\")\n",
    "transaction_data_list"
   ]
  },
  {
   "cell_type": "code",
   "execution_count": null,
   "id": "40cd8492-716d-43f1-836a-bea90a2b1741",
   "metadata": {},
   "outputs": [],
   "source": [
    "transaction_data = reduce(lambda x,y: pd.concat([x, y], axis=0), map(pd.read_parquet, transaction_data_list)) \n",
    "transaction_data.head(5)"
   ]
  },
  {
   "cell_type": "code",
   "execution_count": 9,
   "id": "19ff3a00-7272-4422-912f-6d8aefff217a",
   "metadata": {},
   "outputs": [
    {
     "data": {
      "text/plain": [
       "(5411030, 20)"
      ]
     },
     "execution_count": 9,
     "metadata": {},
     "output_type": "execute_result"
    }
   ],
   "source": [
    "transaction_data.shape"
   ]
  },
  {
   "cell_type": "code",
   "execution_count": null,
   "id": "e396dc52-6597-44be-8b35-fbe3130177e1",
   "metadata": {},
   "outputs": [],
   "source": []
  }
 ],
 "metadata": {
  "kernelspec": {
   "display_name": "stevens",
   "language": "python",
   "name": "stevens"
  },
  "language_info": {
   "codemirror_mode": {
    "name": "ipython",
    "version": 3
   },
   "file_extension": ".py",
   "mimetype": "text/x-python",
   "name": "python",
   "nbconvert_exporter": "python",
   "pygments_lexer": "ipython3",
   "version": "3.11.5"
  }
 },
 "nbformat": 4,
 "nbformat_minor": 5
}
